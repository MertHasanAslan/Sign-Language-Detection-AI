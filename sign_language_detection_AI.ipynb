{
 "cells": [
  {
   "cell_type": "markdown",
   "id": "5f79d3cc-4bf6-4b67-b330-f60955b12603",
   "metadata": {},
   "source": [
    "# Import"
   ]
  },
  {
   "cell_type": "code",
   "execution_count": 12,
   "id": "ea059ac2-4fb0-48a0-8352-7b7aa8c178ed",
   "metadata": {},
   "outputs": [],
   "source": [
    "#!pip install tensorflow opencv-python mediapipe==0.10.11 scikit-learn matplotlib\n",
    "#python 3.8.0"
   ]
  },
  {
   "cell_type": "code",
   "execution_count": 13,
   "id": "c1499351-f47e-4274-900d-91e911353a9d",
   "metadata": {},
   "outputs": [],
   "source": [
    "import numpy as np\n",
    "import os\n",
    "import cv2\n",
    "from matplotlib import pyplot as plt\n",
    "import time\n",
    "import mediapipe as mp"
   ]
  },
  {
   "cell_type": "markdown",
   "id": "86246af0",
   "metadata": {},
   "source": [
    "# Using mediapipe (mp)"
   ]
  },
  {
   "cell_type": "code",
   "execution_count": 14,
   "id": "18c9e4f2",
   "metadata": {},
   "outputs": [],
   "source": [
    "mp_holistic = mp.solutions.holistic #holistic model means that it will include hands, face, body detection\n",
    "mp_drawing = mp.solutions.drawing_utils #for arranging landmarks"
   ]
  },
  {
   "cell_type": "code",
   "execution_count": 21,
   "id": "418fca2b",
   "metadata": {},
   "outputs": [],
   "source": [
    "def mediapipe_detection(image, model):\n",
    "    image = cv2.cvtColor(image, cv2.COLOR_BGR2RGB) #opencv take frames as BGR but mediapipe takes RGB therefore have to convert\n",
    "    image.flags.writeable = False #prevent from changing image while mp.process (only readable)\n",
    "    results = model.process(image) #process (detects hands face body)\n",
    "    image.flags.writeable = True #make writeable again after mp.process\n",
    "    image = cv2.cvtColor(image, cv2.COLOR_RGB2BGR) #convert the color again because opencv will display the image\n",
    "\n",
    "    return image, results\n",
    "\n",
    "\n",
    "def draw_landmarks(image, results):\n",
    "    if results.pose_landmarks: #if body in the image, make draw landmarks\n",
    "        mp_drawing.draw_landmarks(image, results.pose_landmarks, mp_holistic.POSE_CONNECTIONS)\n",
    "\n",
    "    if results.face_landmarks:#if face in the image, make draw landmarks\n",
    "        mp_drawing.draw_landmarks(image, results.face_landmarks, mp_holistic.FACEMESH_CONTOURS)\n",
    "\n",
    "    if results.left_hand_landmarks:#if left hand in the image, make draw landmarks\n",
    "        mp_drawing.draw_landmarks(image, results.left_hand_landmarks, mp_holistic.HAND_CONNECTIONS)\n",
    "\n",
    "    if results.right_hand_landmarks:#if right in the image, make draw landmarks\n",
    "        mp_drawing.draw_landmarks(image, results.right_hand_landmarks, mp_holistic.HAND_CONNECTIONS)\n",
    "\n",
    "def draw_landmarks_restyled(image, results):\n",
    "    if results.pose_landmarks: #if body in the image, make draw landmarks\n",
    "        mp_drawing.draw_landmarks(image, results.pose_landmarks, mp_holistic.POSE_CONNECTIONS,\n",
    "                                  mp_drawing.DrawingSpec(color=(128, 0, 255), thickness=1, circle_radius=1), #this is for landmarks\n",
    "                                  mp_drawing.DrawingSpec(color=(255, 128, 0), thickness=1, circle_radius=1) #this is for connections of landmarks\n",
    "                                  )\n",
    "\n",
    "    if results.face_landmarks:#if face in the image, make draw landmarks\n",
    "        mp_drawing.draw_landmarks(image, results.face_landmarks, mp_holistic.FACEMESH_CONTOURS,\n",
    "                                  mp_drawing.DrawingSpec(color=(128, 0, 255), thickness=1, circle_radius=1), #this is for landmarks\n",
    "                                  mp_drawing.DrawingSpec(color=(255, 128, 0), thickness=1, circle_radius=1) #this is for connections of landmarks\n",
    "                                  )\n",
    "    if results.left_hand_landmarks:#if left hand in the image, make draw landmarks\n",
    "        mp_drawing.draw_landmarks(image, results.left_hand_landmarks, mp_holistic.HAND_CONNECTIONS,\n",
    "                                  mp_drawing.DrawingSpec(color=(128, 0, 255), thickness=1, circle_radius=1), #this is for landmarks\n",
    "                                  mp_drawing.DrawingSpec(color=(255, 128, 0), thickness=1, circle_radius=1) #this is for connections of landmarks\n",
    "                                  )\n",
    "\n",
    "    if results.right_hand_landmarks:#if right in the image, make draw landmarks\n",
    "        mp_drawing.draw_landmarks(image, results.right_hand_landmarks, mp_holistic.HAND_CONNECTIONS,\n",
    "                                  mp_drawing.DrawingSpec(color=(128, 0, 255), thickness=1, circle_radius=1), #this is for landmarks\n",
    "                                  mp_drawing.DrawingSpec(color=(255, 128, 0), thickness=1, circle_radius=1) #this is for connections of landmarks\n",
    "                                  )\n",
    "\n",
    "\n",
    "def show_preprocessed_video(model):\n",
    "    cap = cv2.VideoCapture(0)\n",
    "\n",
    "    while cap.isOpened():\n",
    "        ret, frame = cap.read() #take frame and ret returns True if camera read is sucsessfully done else False\n",
    "\n",
    "        image, results = mediapipe_detection(frame, model) #detect hand face body\n",
    "\n",
    "        draw_landmarks_restyled(image, results) #draw landmarks\n",
    "\n",
    "        cv2.imshow(\"MediaPipe processed video\", image) #display frame \n",
    "\n",
    "\n",
    "        if cv2.waitKey(1) & 0xFF == ord(\"q\"):#q = break and wait 1ms\n",
    "            break\n",
    "\n",
    "    cap.release() #relase the cam\n",
    "    cv2.destroyAllWindows() #close the display screen \n",
    "\n",
    "\n",
    "\n",
    "# For displaying your video.\n",
    "holistic = mp_holistic.Holistic(min_detection_confidence=0.5, min_tracking_confidence=0.5) #create the model that recognize face, hands, body\n",
    "show_preprocessed_video(holistic)\n"
   ]
  },
  {
   "cell_type": "markdown",
   "id": "c50451b2",
   "metadata": {},
   "source": [
    "# Extracting landmarks"
   ]
  },
  {
   "cell_type": "code",
   "execution_count": 16,
   "id": "36faafb9-181a-4970-9d41-7a3b92fcc37e",
   "metadata": {},
   "outputs": [],
   "source": [
    "#this function will extact the landmarks from results.\n",
    "#if there is no results it will create a numpy array that consist of\n",
    "def extract_landmarks(results):\n",
    "    pose = np.array([[result.x, result.y, result.z, result.visibility] for result in  results.pose_landmarks.landmark]).flatten() if results.pose_landmarks else np.zeros(132)\n",
    "    face = np.array([[result.x, result.y, result.z] for result in results.face_landmarks.landmark]).flatten() if results.face_landmarks else np.zeros(1404)\n",
    "    lh = np.array([[result.x, result.y, result.z] for result in results.left_hand_landmarks.landmark]).flatten() if results.left_hand_landmarks else np.zeros(63)\n",
    "    rh = np.array([[result.x, result.y, result.z] for result in results.right_hand_landmarks.landmark]).flatten() if results.right_hand_landmarks else np.zeros(63)\n",
    "    return np.concatenate([pose, face, lh, rh])"
   ]
  },
  {
   "cell_type": "markdown",
   "id": "67568a37",
   "metadata": {},
   "source": [
    "# Setup folders for datas"
   ]
  },
  {
   "cell_type": "code",
   "execution_count": 17,
   "id": "1e7c9e06",
   "metadata": {},
   "outputs": [],
   "source": [
    "data_path = os.path.join(\"mp_data\") #the path that videos will be saved\n",
    "\n",
    "actions = np.array([\"hello\", \"thanks\", \"I love you\"]) #actions that will be detected by AI model\n",
    "\n",
    "sequences = 30 #number of videos\n",
    "\n",
    "sequence_length = 30 #number of frames in a video"
   ]
  },
  {
   "cell_type": "code",
   "execution_count": 18,
   "id": "de425573",
   "metadata": {},
   "outputs": [],
   "source": [
    "for action in actions: #for every move\n",
    "    for sequence in range(1, sequences+1): #video\n",
    "        try:\n",
    "            os.makedirs(os.path.join(data_path, action, str(sequence))) #create folders 30 folders for every move.\n",
    "        except:\n",
    "            pass"
   ]
  },
  {
   "cell_type": "markdown",
   "id": "852a9c34",
   "metadata": {},
   "source": [
    "# Collecting Landmarks for Training and Testing"
   ]
  },
  {
   "cell_type": "code",
   "execution_count": 19,
   "id": "cde8177c",
   "metadata": {},
   "outputs": [],
   "source": [
    "# this function will save frames as numpy arrays \n",
    "# so we will use this function for saving our videos \n",
    "# for collecting datas\n",
    "\n",
    "def show_preprocessed_video_collect(model, actions, sequences, sequence_length):\n",
    "    cap = cv2.VideoCapture(0)\n",
    "    \n",
    "    for action in actions: # loop actions\n",
    "        ret, frame = cap.read() #take frame and ret returns True if camera read is sucsessfully done else False\n",
    "\n",
    "        image, results = mediapipe_detection(frame, model) #detect hand face body\n",
    "        draw_landmarks_restyled(image, results) #draw landmarks\n",
    "        \n",
    "        cv2.putText(image, \"Starting Collection\", (120, 200),\n",
    "                    cv2.FONT_HERSHEY_SIMPLEX, 0.5, (0, 255, 0), 1, cv2.LINE_AA)\n",
    "        cv2.putText(image, \"Collecting frames for {}\".format(action), (15, 12),\n",
    "                    cv2.FONT_HERSHEY_SIMPLEX, 0.5, (0, 0, 255), 1, cv2.LINE_AA)\n",
    "        cv2.imshow(\"MediaPipe processed video\", image) #display frame \n",
    "\n",
    "        cv2.waitKey(5000) #wait 5 second before recording videos for new action\n",
    "\n",
    "        for sequence in range(1, sequences+1): # loop videos\n",
    "            ret, frame = cap.read() #take frame and ret returns True if camera read is sucsessfully done else False\n",
    "\n",
    "            image, results = mediapipe_detection(frame, model) #detect hand face body\n",
    "            draw_landmarks_restyled(image, results) #draw landmarks\n",
    "\n",
    "\n",
    "            cv2.putText(image, \"Starting Collection\", (120, 200),\n",
    "                        cv2.FONT_HERSHEY_SIMPLEX, 0.5, (0, 255, 0), 1, cv2.LINE_AA)\n",
    "            cv2.putText(image, \"Collecting frames for {}, video number {}\".format(action, sequence), (15, 12),\n",
    "                        cv2.FONT_HERSHEY_SIMPLEX, 0.5, (0, 0, 255), 1, cv2.LINE_AA)\n",
    "            cv2.imshow(\"MediaPipe processed video\", image) #display frame \n",
    "\n",
    "            cv2.waitKey(2000) #wait 2 second before starting a new video\n",
    "        \n",
    "            \n",
    "            for frame_num in range(1, sequence_length+1): # loop frames\n",
    "        \n",
    "                ret, frame = cap.read() #take frame and ret returns True if camera read is sucsessfully done else False\n",
    "\n",
    "                image, results = mediapipe_detection(frame, model) #detect hand face body\n",
    "\n",
    "                draw_landmarks_restyled(image, results) #draw landmarks\n",
    "                \n",
    "                # with this if statement you can check if your video start collecting datas\n",
    "                # or your video continiuing collecting datas\n",
    "                # and thanks to cv2.waitKey(2000) program will wait 2 seconds betweeen every video\n",
    "\n",
    "                cv2.putText(image, \"Collecting frames for {}, video number {}\".format(action, sequence), (15, 12),\n",
    "                            cv2.FONT_HERSHEY_SIMPLEX, 0.5, (0, 0, 255), 1, cv2.LINE_AA)\n",
    "\n",
    "                cv2.imshow(\"MediaPipe processed video\", image) #display frame \n",
    "                    \n",
    "                landmarks = extract_landmarks(results) #extracts landmarks for every frame\n",
    "\n",
    "                landmarks_path = os.path.join(data_path, action, str(sequence), str(frame_num) + \".npy\")\n",
    "\n",
    "                np.save(landmarks_path, landmarks)\n",
    "\n",
    "\n",
    "\n",
    "                if cv2.waitKey(1) & 0xFF == ord(\"q\"):#q = break and wait 1ms\n",
    "                    break\n",
    "\n",
    "    cap.release() #relase the cam\n",
    "    cv2.destroyAllWindows() #close the display screen "
   ]
  },
  {
   "cell_type": "code",
   "execution_count": 20,
   "id": "d62e8626",
   "metadata": {},
   "outputs": [],
   "source": [
    "show_preprocessed_video_collect(holistic, actions, sequences, sequence_length)"
   ]
  },
  {
   "cell_type": "code",
   "execution_count": 11,
   "id": "3a8692f2",
   "metadata": {},
   "outputs": [
    {
     "ename": "NameError",
     "evalue": "name 'cap' is not defined",
     "output_type": "error",
     "traceback": [
      "\u001b[1;31m---------------------------------------------------------------------------\u001b[0m",
      "\u001b[1;31mNameError\u001b[0m                                 Traceback (most recent call last)",
      "Cell \u001b[1;32mIn[11], line 1\u001b[0m\n\u001b[1;32m----> 1\u001b[0m \u001b[43mcap\u001b[49m\u001b[38;5;241m.\u001b[39mrelease() \u001b[38;5;66;03m#relase the cam\u001b[39;00m\n\u001b[0;32m      2\u001b[0m cv2\u001b[38;5;241m.\u001b[39mdestroyAllWindows() \u001b[38;5;66;03m#close the display screen \u001b[39;00m\n",
      "\u001b[1;31mNameError\u001b[0m: name 'cap' is not defined"
     ]
    }
   ],
   "source": [
    "cap.release() #relase the cam\n",
    "cv2.destroyAllWindows() #close the display screen "
   ]
  },
  {
   "cell_type": "code",
   "execution_count": null,
   "id": "614af387",
   "metadata": {},
   "outputs": [],
   "source": []
  }
 ],
 "metadata": {
  "kernelspec": {
   "display_name": "Python 3",
   "language": "python",
   "name": "python3"
  },
  "language_info": {
   "codemirror_mode": {
    "name": "ipython",
    "version": 3
   },
   "file_extension": ".py",
   "mimetype": "text/x-python",
   "name": "python",
   "nbconvert_exporter": "python",
   "pygments_lexer": "ipython3",
   "version": "3.8.0"
  }
 },
 "nbformat": 4,
 "nbformat_minor": 5
}
