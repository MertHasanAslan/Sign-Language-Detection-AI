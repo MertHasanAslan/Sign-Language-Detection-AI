{
 "cells": [
  {
   "cell_type": "markdown",
   "id": "5f79d3cc-4bf6-4b67-b330-f60955b12603",
   "metadata": {},
   "source": [
    "# Import"
   ]
  },
  {
   "cell_type": "code",
   "execution_count": 1,
   "id": "ea059ac2-4fb0-48a0-8352-7b7aa8c178ed",
   "metadata": {},
   "outputs": [],
   "source": [
    "#!pip install tensorflow opencv-python mediapipe==0.10.11 scikit-learn matplotlib\n",
    "#python 3.8.0"
   ]
  },
  {
   "cell_type": "code",
   "execution_count": 3,
   "id": "c1499351-f47e-4274-900d-91e911353a9d",
   "metadata": {},
   "outputs": [],
   "source": [
    "import numpy as np\n",
    "import os\n",
    "import cv2\n",
    "from matplotlib import pyplot as plt\n",
    "import time\n",
    "import mediapipe as mp"
   ]
  },
  {
   "cell_type": "markdown",
   "id": "86246af0",
   "metadata": {},
   "source": [
    "# Using mediapipe (mp)"
   ]
  },
  {
   "cell_type": "code",
   "execution_count": null,
   "id": "36faafb9-181a-4970-9d41-7a3b92fcc37e",
   "metadata": {},
   "outputs": [],
   "source": [
    "cap = cv2.VideoCapture(0) #this open your first camera\n",
    "\n",
    "while cap.isOpened():\n",
    "    ret, frame = cap.read() #take frame and ret returns True if camera read is sucsessfully done else False\n",
    "    cv2.imshow(\"OpenCV Feed\", frame) #display frame\n",
    "\n",
    "    if cv2.waitKey(1) & 0xFF == ord(\"q\"): #q = break and wait 1ms\n",
    "        break\n",
    "\n",
    "cap.release() #relase the cam\n",
    "cv2.destroyAllWindows() #close the display screen \n"
   ]
  },
  {
   "cell_type": "code",
   "execution_count": null,
   "id": "c33ad83b",
   "metadata": {},
   "outputs": [],
   "source": []
  }
 ],
 "metadata": {
  "kernelspec": {
   "display_name": "Python 3",
   "language": "python",
   "name": "python3"
  },
  "language_info": {
   "codemirror_mode": {
    "name": "ipython",
    "version": 3
   },
   "file_extension": ".py",
   "mimetype": "text/x-python",
   "name": "python",
   "nbconvert_exporter": "python",
   "pygments_lexer": "ipython3",
   "version": "3.8.0"
  }
 },
 "nbformat": 4,
 "nbformat_minor": 5
}
