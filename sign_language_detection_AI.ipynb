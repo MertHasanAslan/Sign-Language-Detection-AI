{
 "cells": [
  {
   "cell_type": "markdown",
   "id": "5f79d3cc-4bf6-4b67-b330-f60955b12603",
   "metadata": {},
   "source": [
    "# Import"
   ]
  },
  {
   "cell_type": "code",
   "execution_count": 1,
   "id": "ea059ac2-4fb0-48a0-8352-7b7aa8c178ed",
   "metadata": {},
   "outputs": [],
   "source": [
    "#!pip install tensorflow opencv-python mediapipe==0.10.11 scikit-learn matplotlib\n",
    "#python 3.8.0"
   ]
  },
  {
   "cell_type": "code",
   "execution_count": 2,
   "id": "c1499351-f47e-4274-900d-91e911353a9d",
   "metadata": {},
   "outputs": [],
   "source": [
    "import numpy as np\n",
    "import os\n",
    "import cv2\n",
    "from matplotlib import pyplot as plt\n",
    "import time\n",
    "import mediapipe as mp"
   ]
  },
  {
   "cell_type": "markdown",
   "id": "86246af0",
   "metadata": {},
   "source": [
    "# Using mediapipe (mp)"
   ]
  },
  {
   "cell_type": "code",
   "execution_count": 30,
   "id": "18c9e4f2",
   "metadata": {},
   "outputs": [],
   "source": [
    "mp_holistic = mp.solutions.holistic #holistic model means that it will include hands, face, body detection\n",
    "mp_drawing = mp.solutions.drawing_utils #for arranging landmarks"
   ]
  },
  {
   "cell_type": "code",
   "execution_count": null,
   "id": "418fca2b",
   "metadata": {},
   "outputs": [],
   "source": [
    "def mediapipe_detection(image, model):\n",
    "    image = cv2.cvtColor(image, cv2.COLOR_BGR2RGB) #opencv take frames as BGR but mediapipe takes RGB therefore have to convert\n",
    "    image.flags.writeable = False #prevent from changing image while mp.process (only readable)\n",
    "    results = model.process(image) #process (detects hands face body)\n",
    "    image.flags.writeable = True #make writeable again after mp.process\n",
    "    image = cv2.cvtColor(image, cv2.COLOR_RGB2BGR) #convert the color again because opencv will display the image\n",
    "\n",
    "    return image, results\n",
    "\n",
    "def draw_landmarks(image, results):\n",
    "    if results.pose_landmarks: #if body in the image, make draw landmarks\n",
    "        mp_drawing.draw_landmarks(image, results.pose_landmarks, mp_holistic.POSE_CONNECTIONS)\n",
    "\n",
    "    if results.face_landmarks:#if face in the image, make draw landmarks\n",
    "        mp_drawing.draw_landmarks(image, results.face_landmarks, mp_holistic.FACEMESH_CONTOURS)\n",
    "\n",
    "    if results.left_hand_landmarks:#if left hand in the image, make draw landmarks\n",
    "        mp_drawing.draw_landmarks(image, results.left_hand_landmarks, mp_holistic.HAND_CONNECTIONS)\n",
    "\n",
    "    if results.right_hand_landmarks:#if right in the image, make draw landmarks\n",
    "        mp_drawing.draw_landmarks(image, results.right_hand_landmarks, mp_holistic.HAND_CONNECTIONS)\n",
    "\n",
    "def show_preprocessed_video(model):\n",
    "    cap = cv2.VideoCapture(0)\n",
    "\n",
    "    while cap.isOpened():\n",
    "        ret, frame = cap.read() #take frame and ret returns True if camera read is sucsessfully done else False\n",
    "\n",
    "        image, results = mediapipe_detection(frame, model) #detect hand face body\n",
    "\n",
    "        draw_landmarks(image, results) #draw landmarks\n",
    "\n",
    "        cv2.imshow(\"MediaPipe processed video\", image) #display frame \n",
    "\n",
    "\n",
    "        if cv2.waitKey(1) & 0xFF == ord(\"q\"):#q = break and wait 1ms\n",
    "            break\n",
    "\n",
    "    cap.release() #relase the cam\n",
    "    cv2.destroyAllWindows() #close the display screen \n"
   ]
  },
  {
   "cell_type": "code",
   "execution_count": null,
   "id": "36faafb9-181a-4970-9d41-7a3b92fcc37e",
   "metadata": {},
   "outputs": [],
   "source": [
    "holistic = mp_holistic.Holistic(min_detection_confidence=0.5, min_tracking_confidence=0.5) #create the model that recognize face, hands, body\n",
    "\n",
    "show_preprocessed_video(holistic)\n"
   ]
  },
  {
   "cell_type": "code",
   "execution_count": null,
   "id": "61f28756",
   "metadata": {},
   "outputs": [],
   "source": []
  }
 ],
 "metadata": {
  "kernelspec": {
   "display_name": "Python 3",
   "language": "python",
   "name": "python3"
  },
  "language_info": {
   "codemirror_mode": {
    "name": "ipython",
    "version": 3
   },
   "file_extension": ".py",
   "mimetype": "text/x-python",
   "name": "python",
   "nbconvert_exporter": "python",
   "pygments_lexer": "ipython3",
   "version": "3.8.0"
  }
 },
 "nbformat": 4,
 "nbformat_minor": 5
}
