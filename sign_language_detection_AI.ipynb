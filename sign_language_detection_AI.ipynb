{
 "cells": [
  {
   "cell_type": "markdown",
   "id": "5f79d3cc-4bf6-4b67-b330-f60955b12603",
   "metadata": {},
   "source": [
    "## Import"
   ]
  },
  {
   "cell_type": "code",
   "execution_count": 1,
   "id": "ea059ac2-4fb0-48a0-8352-7b7aa8c178ed",
   "metadata": {},
   "outputs": [],
   "source": [
    "#!pip install tensorflow opencv-python mediapipe==0.10.11 scikit-learn matplotlib\n",
    "#python 3.8.0"
   ]
  },
  {
   "cell_type": "code",
   "execution_count": 2,
   "id": "c1499351-f47e-4274-900d-91e911353a9d",
   "metadata": {},
   "outputs": [],
   "source": [
    "import numpy as np\n",
    "import os\n",
    "import cv2\n",
    "from matplotlib import pyplot as plt\n",
    "import time\n",
    "import mediapipe as mp"
   ]
  },
  {
   "cell_type": "markdown",
   "id": "86246af0",
   "metadata": {},
   "source": [
    "## Using mediapipe (mp)"
   ]
  },
  {
   "cell_type": "code",
   "execution_count": 3,
   "id": "18c9e4f2",
   "metadata": {},
   "outputs": [],
   "source": [
    "mp_holistic = mp.solutions.holistic #holistic model means that it will include hands, face, body detection\n",
    "mp_drawing = mp.solutions.drawing_utils #for arranging landmarks"
   ]
  },
  {
   "cell_type": "code",
   "execution_count": 4,
   "id": "418fca2b",
   "metadata": {},
   "outputs": [],
   "source": [
    "def mediapipe_detection(image, model):\n",
    "    image = cv2.cvtColor(image, cv2.COLOR_BGR2RGB) #opencv take frames as BGR but mediapipe takes RGB therefore have to convert\n",
    "    image.flags.writeable = False #prevent from changing image while mp.process (only readable)\n",
    "    results = model.process(image) #process (detects hands face body)\n",
    "    image.flags.writeable = True #make writeable again after mp.process\n",
    "    image = cv2.cvtColor(image, cv2.COLOR_RGB2BGR) #convert the color again because opencv will display the image\n",
    "\n",
    "    return image, results\n",
    "\n",
    "\n",
    "def draw_landmarks(image, results):\n",
    "    if results.pose_landmarks: #if body in the image, make draw landmarks\n",
    "        mp_drawing.draw_landmarks(image, results.pose_landmarks, mp_holistic.POSE_CONNECTIONS)\n",
    "\n",
    "    if results.face_landmarks:#if face in the image, make draw landmarks\n",
    "        mp_drawing.draw_landmarks(image, results.face_landmarks, mp_holistic.FACEMESH_CONTOURS)\n",
    "\n",
    "    if results.left_hand_landmarks:#if left hand in the image, make draw landmarks\n",
    "        mp_drawing.draw_landmarks(image, results.left_hand_landmarks, mp_holistic.HAND_CONNECTIONS)\n",
    "\n",
    "    if results.right_hand_landmarks:#if right in the image, make draw landmarks\n",
    "        mp_drawing.draw_landmarks(image, results.right_hand_landmarks, mp_holistic.HAND_CONNECTIONS)\n",
    "\n",
    "def draw_landmarks_restyled(image, results):\n",
    "    if results.pose_landmarks: #if body in the image, make draw landmarks\n",
    "        mp_drawing.draw_landmarks(image, results.pose_landmarks, mp_holistic.POSE_CONNECTIONS,\n",
    "                                  mp_drawing.DrawingSpec(color=(128, 0, 255), thickness=1, circle_radius=1), #this is for landmarks\n",
    "                                  mp_drawing.DrawingSpec(color=(255, 128, 0), thickness=1, circle_radius=1) #this is for connections of landmarks\n",
    "                                  )\n",
    "\n",
    "    if results.face_landmarks:#if face in the image, make draw landmarks\n",
    "        mp_drawing.draw_landmarks(image, results.face_landmarks, mp_holistic.FACEMESH_CONTOURS,\n",
    "                                  mp_drawing.DrawingSpec(color=(128, 0, 255), thickness=1, circle_radius=1), #this is for landmarks\n",
    "                                  mp_drawing.DrawingSpec(color=(255, 128, 0), thickness=1, circle_radius=1) #this is for connections of landmarks\n",
    "                                  )\n",
    "    if results.left_hand_landmarks:#if left hand in the image, make draw landmarks\n",
    "        mp_drawing.draw_landmarks(image, results.left_hand_landmarks, mp_holistic.HAND_CONNECTIONS,\n",
    "                                  mp_drawing.DrawingSpec(color=(128, 0, 255), thickness=1, circle_radius=1), #this is for landmarks\n",
    "                                  mp_drawing.DrawingSpec(color=(255, 128, 0), thickness=1, circle_radius=1) #this is for connections of landmarks\n",
    "                                  )\n",
    "\n",
    "    if results.right_hand_landmarks:#if right in the image, make draw landmarks\n",
    "        mp_drawing.draw_landmarks(image, results.right_hand_landmarks, mp_holistic.HAND_CONNECTIONS,\n",
    "                                  mp_drawing.DrawingSpec(color=(128, 0, 255), thickness=1, circle_radius=1), #this is for landmarks\n",
    "                                  mp_drawing.DrawingSpec(color=(255, 128, 0), thickness=1, circle_radius=1) #this is for connections of landmarks\n",
    "                                  )\n",
    "\n",
    "\n",
    "def show_preprocessed_video(model):\n",
    "    cap = cv2.VideoCapture(0)\n",
    "\n",
    "    while cap.isOpened():\n",
    "        ret, frame = cap.read() #take frame and ret returns True if camera read is sucsessfully done else False\n",
    "\n",
    "        image, results = mediapipe_detection(frame, model) #detect hand face body\n",
    "\n",
    "        draw_landmarks_restyled(image, results) #draw landmarks\n",
    "\n",
    "        cv2.imshow(\"MediaPipe processed video\", image) #display frame \n",
    "\n",
    "\n",
    "        if cv2.waitKey(1) & 0xFF == ord(\"q\"):#q = break and wait 1ms\n",
    "            break\n",
    "\n",
    "    cap.release() #relase the cam\n",
    "    cv2.destroyAllWindows() #close the display screen \n",
    "\n",
    "\n",
    "\n",
    "# For displaying your video.\n",
    "holistic = mp_holistic.Holistic(min_detection_confidence=0.5, min_tracking_confidence=0.5) #create the model that recognize face, hands, body\n",
    "show_preprocessed_video(holistic)\n"
   ]
  },
  {
   "cell_type": "markdown",
   "id": "c50451b2",
   "metadata": {},
   "source": [
    "## Extracting landmarks"
   ]
  },
  {
   "cell_type": "code",
   "execution_count": 5,
   "id": "36faafb9-181a-4970-9d41-7a3b92fcc37e",
   "metadata": {},
   "outputs": [],
   "source": [
    "#this function will extact the landmarks from results.\n",
    "#if there is no results it will create a numpy array that consist of\n",
    "def extract_landmarks(results):\n",
    "    pose = np.array([[result.x, result.y, result.z, result.visibility] for result in  results.pose_landmarks.landmark]).flatten() if results.pose_landmarks else np.zeros(132)\n",
    "    face = np.array([[result.x, result.y, result.z] for result in results.face_landmarks.landmark]).flatten() if results.face_landmarks else np.zeros(1404)\n",
    "    lh = np.array([[result.x, result.y, result.z] for result in results.left_hand_landmarks.landmark]).flatten() if results.left_hand_landmarks else np.zeros(63)\n",
    "    rh = np.array([[result.x, result.y, result.z] for result in results.right_hand_landmarks.landmark]).flatten() if results.right_hand_landmarks else np.zeros(63)\n",
    "    return np.concatenate([pose, face, lh, rh])"
   ]
  },
  {
   "cell_type": "markdown",
   "id": "67568a37",
   "metadata": {},
   "source": [
    "## Setup folders for datas"
   ]
  },
  {
   "cell_type": "code",
   "execution_count": 6,
   "id": "1e7c9e06",
   "metadata": {},
   "outputs": [],
   "source": [
    "data_path = os.path.join(\"mp_data\") #the path that videos will be saved\n",
    "\n",
    "actions = np.array([\"hello\", \"thanks\", \"I love you\"]) #actions that will be detected by AI model\n",
    "\n",
    "sequences = 30 #number of videos\n",
    "\n",
    "sequence_length = 30 #number of frames in a video"
   ]
  },
  {
   "cell_type": "code",
   "execution_count": 18,
   "id": "de425573",
   "metadata": {},
   "outputs": [],
   "source": [
    "for action in actions: #for every move\n",
    "    for sequence in range(1, sequences+1): #video\n",
    "        try:\n",
    "            os.makedirs(os.path.join(data_path, action, str(sequence))) #create folders 30 folders for every move.\n",
    "        except:\n",
    "            pass"
   ]
  },
  {
   "cell_type": "markdown",
   "id": "852a9c34",
   "metadata": {},
   "source": [
    "## Collecting Landmarks for Training and Testing"
   ]
  },
  {
   "cell_type": "code",
   "execution_count": 19,
   "id": "cde8177c",
   "metadata": {},
   "outputs": [],
   "source": [
    "# this function will save frames as numpy arrays \n",
    "# so we will use this function for saving our videos \n",
    "# for collecting datas\n",
    "\n",
    "def show_preprocessed_video_collect(model, actions, sequences, sequence_length):\n",
    "    cap = cv2.VideoCapture(0)\n",
    "    \n",
    "    for action in actions: # loop actions\n",
    "        ret, frame = cap.read() #take frame and ret returns True if camera read is sucsessfully done else False\n",
    "\n",
    "        image, results = mediapipe_detection(frame, model) #detect hand face body\n",
    "        draw_landmarks_restyled(image, results) #draw landmarks\n",
    "        \n",
    "        cv2.putText(image, \"Starting Collection\", (120, 200),\n",
    "                    cv2.FONT_HERSHEY_SIMPLEX, 0.5, (0, 255, 0), 1, cv2.LINE_AA)\n",
    "        cv2.putText(image, \"Collecting frames for {}\".format(action), (15, 12),\n",
    "                    cv2.FONT_HERSHEY_SIMPLEX, 0.5, (0, 0, 255), 1, cv2.LINE_AA)\n",
    "        cv2.imshow(\"MediaPipe processed video\", image) #display frame \n",
    "\n",
    "        cv2.waitKey(5000) #wait 5 second before recording videos for new action\n",
    "\n",
    "        for sequence in range(1, sequences+1): # loop videos\n",
    "            ret, frame = cap.read() #take frame and ret returns True if camera read is sucsessfully done else False\n",
    "\n",
    "            image, results = mediapipe_detection(frame, model) #detect hand face body\n",
    "            draw_landmarks_restyled(image, results) #draw landmarks\n",
    "\n",
    "\n",
    "            cv2.putText(image, \"Starting Collection\", (120, 200),\n",
    "                        cv2.FONT_HERSHEY_SIMPLEX, 0.5, (0, 255, 0), 1, cv2.LINE_AA)\n",
    "            cv2.putText(image, \"Collecting frames for {}, video number {}\".format(action, sequence), (15, 12),\n",
    "                        cv2.FONT_HERSHEY_SIMPLEX, 0.5, (0, 0, 255), 1, cv2.LINE_AA)\n",
    "            cv2.imshow(\"MediaPipe processed video\", image) #display frame \n",
    "\n",
    "            cv2.waitKey(2000) #wait 2 second before starting a new video\n",
    "        \n",
    "            \n",
    "            for frame_num in range(1, sequence_length+1): # loop frames\n",
    "        \n",
    "                ret, frame = cap.read() #take frame and ret returns True if camera read is sucsessfully done else False\n",
    "\n",
    "                image, results = mediapipe_detection(frame, model) #detect hand face body\n",
    "\n",
    "                draw_landmarks_restyled(image, results) #draw landmarks\n",
    "                \n",
    "                # with this if statement you can check if your video start collecting datas\n",
    "                # or your video continiuing collecting datas\n",
    "                # and thanks to cv2.waitKey(2000) program will wait 2 seconds betweeen every video\n",
    "\n",
    "                cv2.putText(image, \"Collecting frames for {}, video number {}\".format(action, sequence), (15, 12),\n",
    "                            cv2.FONT_HERSHEY_SIMPLEX, 0.5, (0, 0, 255), 1, cv2.LINE_AA)\n",
    "\n",
    "                cv2.imshow(\"MediaPipe processed video\", image) #display frame \n",
    "                    \n",
    "                landmarks = extract_landmarks(results) #extracts landmarks for every frame\n",
    "\n",
    "                landmarks_path = os.path.join(data_path, action, str(sequence), str(frame_num) + \".npy\")\n",
    "\n",
    "                np.save(landmarks_path, landmarks)\n",
    "\n",
    "\n",
    "\n",
    "                if cv2.waitKey(1) & 0xFF == ord(\"q\"):#q = break and wait 1ms\n",
    "                    break\n",
    "\n",
    "    cap.release() #relase the cam\n",
    "    cv2.destroyAllWindows() #close the display screen "
   ]
  },
  {
   "cell_type": "code",
   "execution_count": 20,
   "id": "d62e8626",
   "metadata": {},
   "outputs": [],
   "source": [
    "show_preprocessed_video_collect(holistic, actions, sequences, sequence_length)"
   ]
  },
  {
   "cell_type": "markdown",
   "id": "a6c80b78",
   "metadata": {},
   "source": [
    "## Preprocess data"
   ]
  },
  {
   "cell_type": "code",
   "execution_count": 12,
   "id": "614af387",
   "metadata": {},
   "outputs": [],
   "source": [
    "from sklearn.model_selection import train_test_split\n",
    "from tensorflow.keras.utils import to_categorical"
   ]
  },
  {
   "cell_type": "code",
   "execution_count": 13,
   "id": "f53c4e08",
   "metadata": {},
   "outputs": [],
   "source": [
    "# make a map for training and testing data \n",
    "# the map will be look like this {'hello': 0, 'thanks': 1,...}\n",
    "label_map = {label:num for num, label in enumerate(actions)} "
   ]
  },
  {
   "cell_type": "code",
   "execution_count": null,
   "id": "bbff741d",
   "metadata": {},
   "outputs": [],
   "source": [
    "videos = []\n",
    "labels = []\n",
    "\n",
    "for action in actions:\n",
    "    for sequence in range(1, sequences+1):\n",
    "        frames = []\n",
    "        for frame_num in range(1, sequence_length +1):\n",
    "            np_frame = np.load(os.path.join(data_path, action, str(sequence), str(frame_num) + \".npy\" )) # load the frame data that we created\n",
    "            frames.append(np_frame) # add frames one by one\n",
    "        videos.append(frames) # add one video (30 frames)\n",
    "        labels.append(label_map[action]) # add action of that video (ex: {'hello': 0, 'thanks': 1,...} so that if action is \"hello\" it will add 0)\n"
   ]
  },
  {
   "cell_type": "code",
   "execution_count": 18,
   "id": "a5e54ac5",
   "metadata": {},
   "outputs": [
    {
     "data": {
      "text/plain": [
       "(90, 30, 1662)"
      ]
     },
     "execution_count": 18,
     "metadata": {},
     "output_type": "execute_result"
    }
   ],
   "source": [
    "np.array(videos).shape #90 videos, 30 frames for every video, 1662 landmarks for every frames."
   ]
  },
  {
   "cell_type": "code",
   "execution_count": 20,
   "id": "34a4165a",
   "metadata": {},
   "outputs": [
    {
     "data": {
      "text/plain": [
       "(90, 30, 1662)"
      ]
     },
     "execution_count": 20,
     "metadata": {},
     "output_type": "execute_result"
    }
   ],
   "source": [
    "x = np.array(videos)\n",
    "x.shape"
   ]
  },
  {
   "cell_type": "code",
   "execution_count": 24,
   "id": "6d596311",
   "metadata": {},
   "outputs": [
    {
     "data": {
      "text/plain": [
       "(90, 3)"
      ]
     },
     "execution_count": 24,
     "metadata": {},
     "output_type": "execute_result"
    }
   ],
   "source": [
    "y = to_categorical(labels).astype(int) # now labels will look like tihs (1, 0, 0) this is very important for training.\n",
    "y.shape                                                               # (0, 1, 0)"
   ]
  },
  {
   "cell_type": "code",
   "execution_count": 25,
   "id": "4c701c85",
   "metadata": {},
   "outputs": [],
   "source": [
    "# This will train our data\n",
    "# it will use 0.9 of data for training\n",
    "# 0.1 of data for testing\n",
    "x_train, x_test, y_train, y_test = train_test_split(x, y, test_size = 0.1)"
   ]
  },
  {
   "cell_type": "code",
   "execution_count": 27,
   "id": "7b75a043",
   "metadata": {},
   "outputs": [
    {
     "data": {
      "text/plain": [
       "(81, 30, 1662)"
      ]
     },
     "execution_count": 27,
     "metadata": {},
     "output_type": "execute_result"
    }
   ],
   "source": [
    "x_train.shape"
   ]
  },
  {
   "cell_type": "markdown",
   "id": "88900a90",
   "metadata": {},
   "source": [
    "## Building and Training a LSTM (Long Short Term Memory) Neural Network"
   ]
  },
  {
   "cell_type": "code",
   "execution_count": 78,
   "id": "2acda7c0",
   "metadata": {},
   "outputs": [],
   "source": [
    "from tensorflow.keras.models import Sequential\n",
    "from tensorflow.keras.layers import LSTM, Dense\n",
    "from tensorflow.keras.callbacks import TensorBoard"
   ]
  },
  {
   "cell_type": "code",
   "execution_count": 79,
   "id": "7895e3f0",
   "metadata": {},
   "outputs": [],
   "source": [
    "log_dir = os.path.join(\"logs\")\n",
    "tensorboard_callback = TensorBoard(log_dir=log_dir)"
   ]
  },
  {
   "cell_type": "code",
   "execution_count": 80,
   "id": "b5ad6762",
   "metadata": {},
   "outputs": [],
   "source": [
    "model = Sequential() # this will our neural network\n",
    "model.add(LSTM(64, return_sequences=True, activation='relu', input_shape=(30,1662))) #64 units and it will return a sequence (30 frame)\n",
    "model.add(LSTM(128, return_sequences=True, activation='relu')) #128 units, normally activation is 'tanh' however since this is a small project relu is better\n",
    "model.add(LSTM(64, return_sequences=False, activation='relu')) #64 units and return one vector not a sequence\n",
    "model.add(Dense(64, activation='relu')) #Dense layer for Non-linearity learning 64 units\n",
    "model.add(Dense(32, activation='relu')) #32 units\n",
    "# This is very important\n",
    "# activation='softmax' means that it will return probabilities\n",
    "# for ex: hello: %80, thanks you: %5, I love you: %15 [0.8, 0.05, 0.15]\n",
    "model.add(Dense(actions.shape[0], activation='softmax'))"
   ]
  },
  {
   "cell_type": "code",
   "execution_count": 81,
   "id": "4e9a6220",
   "metadata": {},
   "outputs": [],
   "source": [
    "# IMPORTANT: You can chande optimizer and metrics howoever do not change the loss function \n",
    "# since we are doing a multi-class classification model, we have to use 'categorical_crossentropy' for loss function!\n",
    "model.compile(optimizer='Adam', loss='categorical_crossentropy', metrics=['categorical_accuracy'])"
   ]
  },
  {
   "cell_type": "code",
   "execution_count": 82,
   "id": "16397227",
   "metadata": {},
   "outputs": [
    {
     "name": "stdout",
     "output_type": "stream",
     "text": [
      "Epoch 1/170\n",
      "3/3 [==============================] - 2s 42ms/step - loss: 2.8913 - categorical_accuracy: 0.3580\n",
      "Epoch 2/170\n",
      "3/3 [==============================] - 0s 46ms/step - loss: 8.6470 - categorical_accuracy: 0.2963\n",
      "Epoch 3/170\n",
      "3/3 [==============================] - 0s 45ms/step - loss: 38.6086 - categorical_accuracy: 0.3580\n",
      "Epoch 4/170\n",
      "3/3 [==============================] - 0s 46ms/step - loss: 59.0858 - categorical_accuracy: 0.3210\n",
      "Epoch 5/170\n",
      "3/3 [==============================] - 0s 44ms/step - loss: 21.2913 - categorical_accuracy: 0.3333\n",
      "Epoch 6/170\n",
      "3/3 [==============================] - 0s 42ms/step - loss: 24.0512 - categorical_accuracy: 0.2716\n",
      "Epoch 7/170\n",
      "3/3 [==============================] - 0s 44ms/step - loss: 17.5798 - categorical_accuracy: 0.3580\n",
      "Epoch 8/170\n",
      "3/3 [==============================] - 0s 47ms/step - loss: 27.2144 - categorical_accuracy: 0.3827\n",
      "Epoch 9/170\n",
      "3/3 [==============================] - 0s 44ms/step - loss: 10.9622 - categorical_accuracy: 0.4691\n",
      "Epoch 10/170\n",
      "3/3 [==============================] - 0s 42ms/step - loss: 9.0328 - categorical_accuracy: 0.4321\n",
      "Epoch 11/170\n",
      "3/3 [==============================] - 0s 43ms/step - loss: 12.1755 - categorical_accuracy: 0.3210\n",
      "Epoch 12/170\n",
      "3/3 [==============================] - 0s 45ms/step - loss: 11.5356 - categorical_accuracy: 0.3457\n",
      "Epoch 13/170\n",
      "3/3 [==============================] - 0s 46ms/step - loss: 7.8201 - categorical_accuracy: 0.4198\n",
      "Epoch 14/170\n",
      "3/3 [==============================] - 0s 43ms/step - loss: 16.4147 - categorical_accuracy: 0.3951\n",
      "Epoch 15/170\n",
      "3/3 [==============================] - 0s 43ms/step - loss: 4.5291 - categorical_accuracy: 0.4198\n",
      "Epoch 16/170\n",
      "3/3 [==============================] - 0s 43ms/step - loss: 6.2615 - categorical_accuracy: 0.3704\n",
      "Epoch 17/170\n",
      "3/3 [==============================] - 0s 43ms/step - loss: 6.8706 - categorical_accuracy: 0.2222\n",
      "Epoch 18/170\n",
      "3/3 [==============================] - 0s 44ms/step - loss: 6.2724 - categorical_accuracy: 0.3457\n",
      "Epoch 19/170\n",
      "3/3 [==============================] - 0s 45ms/step - loss: 7.5173 - categorical_accuracy: 0.4074\n",
      "Epoch 20/170\n",
      "3/3 [==============================] - 0s 43ms/step - loss: 16.5417 - categorical_accuracy: 0.3580\n",
      "Epoch 21/170\n",
      "3/3 [==============================] - 0s 44ms/step - loss: 17.4864 - categorical_accuracy: 0.2840\n",
      "Epoch 22/170\n",
      "3/3 [==============================] - 0s 42ms/step - loss: 32.7782 - categorical_accuracy: 0.3086\n",
      "Epoch 23/170\n",
      "3/3 [==============================] - 0s 44ms/step - loss: 27.2847 - categorical_accuracy: 0.3457\n",
      "Epoch 24/170\n",
      "3/3 [==============================] - 0s 48ms/step - loss: 35.0530 - categorical_accuracy: 0.2840\n",
      "Epoch 25/170\n",
      "3/3 [==============================] - 0s 43ms/step - loss: 23.3993 - categorical_accuracy: 0.3086\n",
      "Epoch 26/170\n",
      "3/3 [==============================] - 0s 49ms/step - loss: 21.9742 - categorical_accuracy: 0.3333\n",
      "Epoch 27/170\n",
      "3/3 [==============================] - 0s 49ms/step - loss: 15.7490 - categorical_accuracy: 0.4198\n",
      "Epoch 28/170\n",
      "3/3 [==============================] - 0s 44ms/step - loss: 18.9297 - categorical_accuracy: 0.2593\n",
      "Epoch 29/170\n",
      "3/3 [==============================] - 0s 44ms/step - loss: 28.0594 - categorical_accuracy: 0.3210\n",
      "Epoch 30/170\n",
      "3/3 [==============================] - 0s 44ms/step - loss: 10.7929 - categorical_accuracy: 0.4074\n",
      "Epoch 31/170\n",
      "3/3 [==============================] - 0s 45ms/step - loss: 18.7655 - categorical_accuracy: 0.4074\n",
      "Epoch 32/170\n",
      "3/3 [==============================] - 0s 44ms/step - loss: 17.6979 - categorical_accuracy: 0.3086\n",
      "Epoch 33/170\n",
      "3/3 [==============================] - 0s 46ms/step - loss: 8.5295 - categorical_accuracy: 0.4321\n",
      "Epoch 34/170\n",
      "3/3 [==============================] - 0s 44ms/step - loss: 13.1922 - categorical_accuracy: 0.2840\n",
      "Epoch 35/170\n",
      "3/3 [==============================] - 0s 44ms/step - loss: 7.3994 - categorical_accuracy: 0.1852\n",
      "Epoch 36/170\n",
      "3/3 [==============================] - 0s 43ms/step - loss: 3.0244 - categorical_accuracy: 0.3704\n",
      "Epoch 37/170\n",
      "3/3 [==============================] - 0s 45ms/step - loss: 1.4581 - categorical_accuracy: 0.4691\n",
      "Epoch 38/170\n",
      "3/3 [==============================] - 0s 43ms/step - loss: 1.0204 - categorical_accuracy: 0.6914\n",
      "Epoch 39/170\n",
      "3/3 [==============================] - 0s 44ms/step - loss: 1.2681 - categorical_accuracy: 0.6049\n",
      "Epoch 40/170\n",
      "3/3 [==============================] - 0s 50ms/step - loss: 0.9078 - categorical_accuracy: 0.5185\n",
      "Epoch 41/170\n",
      "3/3 [==============================] - 0s 44ms/step - loss: 0.8007 - categorical_accuracy: 0.6667\n",
      "Epoch 42/170\n",
      "3/3 [==============================] - 0s 44ms/step - loss: 0.6259 - categorical_accuracy: 0.7037\n",
      "Epoch 43/170\n",
      "3/3 [==============================] - 0s 43ms/step - loss: 0.5173 - categorical_accuracy: 0.7901\n",
      "Epoch 44/170\n",
      "3/3 [==============================] - 0s 43ms/step - loss: 0.4976 - categorical_accuracy: 0.7778\n",
      "Epoch 45/170\n",
      "3/3 [==============================] - 0s 45ms/step - loss: 0.4189 - categorical_accuracy: 0.7654\n",
      "Epoch 46/170\n",
      "3/3 [==============================] - 0s 46ms/step - loss: 0.4346 - categorical_accuracy: 0.7778\n",
      "Epoch 47/170\n",
      "3/3 [==============================] - 0s 52ms/step - loss: 0.4647 - categorical_accuracy: 0.8148\n",
      "Epoch 48/170\n",
      "3/3 [==============================] - 0s 44ms/step - loss: 0.3136 - categorical_accuracy: 0.8025\n",
      "Epoch 49/170\n",
      "3/3 [==============================] - 0s 43ms/step - loss: 0.3341 - categorical_accuracy: 0.8395\n",
      "Epoch 50/170\n",
      "3/3 [==============================] - 0s 43ms/step - loss: 0.3028 - categorical_accuracy: 0.8642\n",
      "Epoch 51/170\n",
      "3/3 [==============================] - 0s 44ms/step - loss: 0.2583 - categorical_accuracy: 0.9136\n",
      "Epoch 52/170\n",
      "3/3 [==============================] - 0s 44ms/step - loss: 0.2054 - categorical_accuracy: 0.9259\n",
      "Epoch 53/170\n",
      "3/3 [==============================] - 0s 140ms/step - loss: 0.2967 - categorical_accuracy: 0.8642\n",
      "Epoch 54/170\n",
      "3/3 [==============================] - 0s 134ms/step - loss: 0.2423 - categorical_accuracy: 0.9012\n",
      "Epoch 55/170\n",
      "3/3 [==============================] - 1s 219ms/step - loss: 0.1966 - categorical_accuracy: 0.9012\n",
      "Epoch 56/170\n",
      "3/3 [==============================] - 1s 176ms/step - loss: 0.1625 - categorical_accuracy: 0.9630\n",
      "Epoch 57/170\n",
      "3/3 [==============================] - 1s 169ms/step - loss: 0.2003 - categorical_accuracy: 0.9259\n",
      "Epoch 58/170\n",
      "3/3 [==============================] - 0s 169ms/step - loss: 0.1173 - categorical_accuracy: 0.9630\n",
      "Epoch 59/170\n",
      "3/3 [==============================] - 1s 166ms/step - loss: 0.1656 - categorical_accuracy: 0.9136\n",
      "Epoch 60/170\n",
      "3/3 [==============================] - 0s 150ms/step - loss: 0.1175 - categorical_accuracy: 0.9506\n",
      "Epoch 61/170\n",
      "3/3 [==============================] - 1s 200ms/step - loss: 0.1064 - categorical_accuracy: 0.9630\n",
      "Epoch 62/170\n",
      "3/3 [==============================] - 0s 160ms/step - loss: 0.1221 - categorical_accuracy: 0.9753\n",
      "Epoch 63/170\n",
      "3/3 [==============================] - 1s 156ms/step - loss: 0.1035 - categorical_accuracy: 0.9753\n",
      "Epoch 64/170\n",
      "3/3 [==============================] - 0s 146ms/step - loss: 0.1075 - categorical_accuracy: 0.9753\n",
      "Epoch 65/170\n",
      "3/3 [==============================] - 1s 172ms/step - loss: 0.0964 - categorical_accuracy: 0.9753\n",
      "Epoch 66/170\n",
      "3/3 [==============================] - 1s 145ms/step - loss: 0.0937 - categorical_accuracy: 0.9630\n",
      "Epoch 67/170\n",
      "3/3 [==============================] - 0s 148ms/step - loss: 0.1048 - categorical_accuracy: 0.9630\n",
      "Epoch 68/170\n",
      "3/3 [==============================] - 1s 172ms/step - loss: 0.0894 - categorical_accuracy: 0.9877\n",
      "Epoch 69/170\n",
      "3/3 [==============================] - 0s 143ms/step - loss: 0.0920 - categorical_accuracy: 0.9506\n",
      "Epoch 70/170\n",
      "3/3 [==============================] - 0s 169ms/step - loss: 0.0900 - categorical_accuracy: 0.9753\n",
      "Epoch 71/170\n",
      "3/3 [==============================] - 1s 184ms/step - loss: 0.0801 - categorical_accuracy: 0.9877\n",
      "Epoch 72/170\n",
      "3/3 [==============================] - 1s 168ms/step - loss: 0.0937 - categorical_accuracy: 0.9630\n",
      "Epoch 73/170\n",
      "3/3 [==============================] - 0s 160ms/step - loss: 0.0717 - categorical_accuracy: 0.9753\n",
      "Epoch 74/170\n",
      "3/3 [==============================] - 0s 165ms/step - loss: 0.0751 - categorical_accuracy: 0.9753\n",
      "Epoch 75/170\n",
      "3/3 [==============================] - 0s 139ms/step - loss: 0.0722 - categorical_accuracy: 0.9877\n",
      "Epoch 76/170\n",
      "3/3 [==============================] - 0s 152ms/step - loss: 0.0726 - categorical_accuracy: 0.9877\n",
      "Epoch 77/170\n",
      "3/3 [==============================] - 1s 184ms/step - loss: 0.0666 - categorical_accuracy: 0.9753\n",
      "Epoch 78/170\n",
      "3/3 [==============================] - 1s 176ms/step - loss: 0.0641 - categorical_accuracy: 0.9753\n",
      "Epoch 79/170\n",
      "3/3 [==============================] - 0s 157ms/step - loss: 0.0654 - categorical_accuracy: 0.9877\n",
      "Epoch 80/170\n",
      "3/3 [==============================] - 0s 127ms/step - loss: 0.0595 - categorical_accuracy: 0.9877\n",
      "Epoch 81/170\n",
      "3/3 [==============================] - 0s 152ms/step - loss: 0.0635 - categorical_accuracy: 0.9877\n",
      "Epoch 82/170\n",
      "3/3 [==============================] - 0s 152ms/step - loss: 0.0706 - categorical_accuracy: 0.9753\n",
      "Epoch 83/170\n",
      "3/3 [==============================] - 1s 190ms/step - loss: 0.0566 - categorical_accuracy: 0.9877\n",
      "Epoch 84/170\n",
      "3/3 [==============================] - 0s 129ms/step - loss: 0.0715 - categorical_accuracy: 0.9877\n",
      "Epoch 85/170\n",
      "3/3 [==============================] - 0s 180ms/step - loss: 0.0637 - categorical_accuracy: 0.9753\n",
      "Epoch 86/170\n",
      "3/3 [==============================] - 1s 210ms/step - loss: 0.0563 - categorical_accuracy: 0.9753\n",
      "Epoch 87/170\n",
      "3/3 [==============================] - 1s 172ms/step - loss: 0.0674 - categorical_accuracy: 0.9877\n",
      "Epoch 88/170\n",
      "3/3 [==============================] - 0s 131ms/step - loss: 0.0592 - categorical_accuracy: 0.9753\n",
      "Epoch 89/170\n",
      "3/3 [==============================] - 0s 178ms/step - loss: 0.0615 - categorical_accuracy: 0.9877\n",
      "Epoch 90/170\n",
      "3/3 [==============================] - 1s 185ms/step - loss: 0.0604 - categorical_accuracy: 0.9877\n",
      "Epoch 91/170\n",
      "3/3 [==============================] - 1s 162ms/step - loss: 0.0530 - categorical_accuracy: 0.9753\n",
      "Epoch 92/170\n",
      "3/3 [==============================] - 1s 171ms/step - loss: 0.0698 - categorical_accuracy: 0.9877\n",
      "Epoch 93/170\n",
      "3/3 [==============================] - 0s 140ms/step - loss: 0.0590 - categorical_accuracy: 0.9753\n",
      "Epoch 94/170\n",
      "3/3 [==============================] - 0s 129ms/step - loss: 0.0791 - categorical_accuracy: 0.9753\n",
      "Epoch 95/170\n",
      "3/3 [==============================] - 0s 136ms/step - loss: 0.0744 - categorical_accuracy: 0.9753\n",
      "Epoch 96/170\n",
      "3/3 [==============================] - 1s 215ms/step - loss: 0.0697 - categorical_accuracy: 0.9753\n",
      "Epoch 97/170\n",
      "3/3 [==============================] - 0s 141ms/step - loss: 0.0597 - categorical_accuracy: 0.9753\n",
      "Epoch 98/170\n",
      "3/3 [==============================] - 0s 156ms/step - loss: 0.0705 - categorical_accuracy: 1.0000\n",
      "Epoch 99/170\n",
      "3/3 [==============================] - 1s 162ms/step - loss: 0.0457 - categorical_accuracy: 0.9877\n",
      "Epoch 100/170\n",
      "3/3 [==============================] - 0s 45ms/step - loss: 0.0833 - categorical_accuracy: 0.9630\n",
      "Epoch 101/170\n",
      "3/3 [==============================] - 0s 43ms/step - loss: 0.0560 - categorical_accuracy: 0.9877\n",
      "Epoch 102/170\n",
      "3/3 [==============================] - 0s 44ms/step - loss: 0.0474 - categorical_accuracy: 0.9877\n",
      "Epoch 103/170\n",
      "3/3 [==============================] - 0s 53ms/step - loss: 0.0537 - categorical_accuracy: 0.9753\n",
      "Epoch 104/170\n",
      "3/3 [==============================] - 0s 45ms/step - loss: 0.0500 - categorical_accuracy: 0.9877\n",
      "Epoch 105/170\n",
      "3/3 [==============================] - 0s 45ms/step - loss: 0.0450 - categorical_accuracy: 0.9877\n",
      "Epoch 106/170\n",
      "3/3 [==============================] - 0s 46ms/step - loss: 0.0481 - categorical_accuracy: 0.9877\n",
      "Epoch 107/170\n",
      "3/3 [==============================] - 0s 45ms/step - loss: 0.0423 - categorical_accuracy: 0.9877\n",
      "Epoch 108/170\n",
      "3/3 [==============================] - 0s 45ms/step - loss: 0.0419 - categorical_accuracy: 0.9877\n",
      "Epoch 109/170\n",
      "3/3 [==============================] - 0s 44ms/step - loss: 0.0401 - categorical_accuracy: 0.9877\n",
      "Epoch 110/170\n",
      "3/3 [==============================] - 0s 44ms/step - loss: 0.0411 - categorical_accuracy: 0.9877\n",
      "Epoch 111/170\n",
      "3/3 [==============================] - 0s 44ms/step - loss: 0.0399 - categorical_accuracy: 0.9877\n",
      "Epoch 112/170\n",
      "3/3 [==============================] - 0s 43ms/step - loss: 0.0413 - categorical_accuracy: 0.9877\n",
      "Epoch 113/170\n",
      "3/3 [==============================] - 0s 50ms/step - loss: 0.0423 - categorical_accuracy: 0.9877\n",
      "Epoch 114/170\n",
      "3/3 [==============================] - 0s 45ms/step - loss: 0.0380 - categorical_accuracy: 0.9877\n",
      "Epoch 115/170\n",
      "3/3 [==============================] - 0s 44ms/step - loss: 0.0373 - categorical_accuracy: 0.9877\n",
      "Epoch 116/170\n",
      "3/3 [==============================] - 0s 44ms/step - loss: 0.0368 - categorical_accuracy: 0.9877\n",
      "Epoch 117/170\n",
      "3/3 [==============================] - 0s 44ms/step - loss: 0.0364 - categorical_accuracy: 0.9877\n",
      "Epoch 118/170\n",
      "3/3 [==============================] - 0s 45ms/step - loss: 0.0371 - categorical_accuracy: 0.9877\n",
      "Epoch 119/170\n",
      "3/3 [==============================] - 0s 51ms/step - loss: 0.0382 - categorical_accuracy: 0.9877\n",
      "Epoch 120/170\n",
      "3/3 [==============================] - 0s 45ms/step - loss: 0.0366 - categorical_accuracy: 0.9877\n",
      "Epoch 121/170\n",
      "3/3 [==============================] - 0s 45ms/step - loss: 0.0392 - categorical_accuracy: 0.9877\n",
      "Epoch 122/170\n",
      "3/3 [==============================] - 0s 44ms/step - loss: 0.0362 - categorical_accuracy: 0.9877\n",
      "Epoch 123/170\n",
      "3/3 [==============================] - 0s 44ms/step - loss: 0.0377 - categorical_accuracy: 0.9877\n",
      "Epoch 124/170\n",
      "3/3 [==============================] - 0s 43ms/step - loss: 0.0339 - categorical_accuracy: 0.9877\n",
      "Epoch 125/170\n",
      "3/3 [==============================] - 0s 44ms/step - loss: 0.0350 - categorical_accuracy: 1.0000\n",
      "Epoch 126/170\n",
      "3/3 [==============================] - 0s 43ms/step - loss: 0.0341 - categorical_accuracy: 0.9877\n",
      "Epoch 127/170\n",
      "3/3 [==============================] - 0s 43ms/step - loss: 0.0318 - categorical_accuracy: 0.9877\n",
      "Epoch 128/170\n",
      "3/3 [==============================] - 0s 45ms/step - loss: 0.0377 - categorical_accuracy: 0.9877\n",
      "Epoch 129/170\n",
      "3/3 [==============================] - 0s 49ms/step - loss: 0.0353 - categorical_accuracy: 0.9877\n",
      "Epoch 130/170\n",
      "3/3 [==============================] - 0s 44ms/step - loss: 0.0341 - categorical_accuracy: 0.9877\n",
      "Epoch 131/170\n",
      "3/3 [==============================] - 0s 49ms/step - loss: 0.0317 - categorical_accuracy: 0.9877\n",
      "Epoch 132/170\n",
      "3/3 [==============================] - 0s 45ms/step - loss: 0.0440 - categorical_accuracy: 0.9877\n",
      "Epoch 133/170\n",
      "3/3 [==============================] - 0s 46ms/step - loss: 0.0557 - categorical_accuracy: 0.9753\n",
      "Epoch 134/170\n",
      "3/3 [==============================] - 0s 44ms/step - loss: 0.0711 - categorical_accuracy: 0.9630\n",
      "Epoch 135/170\n",
      "3/3 [==============================] - 0s 45ms/step - loss: 0.1610 - categorical_accuracy: 0.9383\n",
      "Epoch 136/170\n",
      "3/3 [==============================] - 0s 44ms/step - loss: 0.1637 - categorical_accuracy: 0.9383\n",
      "Epoch 137/170\n",
      "3/3 [==============================] - 0s 44ms/step - loss: 0.0875 - categorical_accuracy: 0.9877\n",
      "Epoch 138/170\n",
      "3/3 [==============================] - 0s 45ms/step - loss: 0.0756 - categorical_accuracy: 0.9753\n",
      "Epoch 139/170\n",
      "3/3 [==============================] - 0s 46ms/step - loss: 0.0833 - categorical_accuracy: 0.9753\n",
      "Epoch 140/170\n",
      "3/3 [==============================] - 0s 45ms/step - loss: 0.0522 - categorical_accuracy: 0.9877\n",
      "Epoch 141/170\n",
      "3/3 [==============================] - 0s 46ms/step - loss: 0.0888 - categorical_accuracy: 0.9506\n",
      "Epoch 142/170\n",
      "3/3 [==============================] - 0s 46ms/step - loss: 0.0502 - categorical_accuracy: 0.9877\n",
      "Epoch 143/170\n",
      "3/3 [==============================] - 0s 46ms/step - loss: 0.0630 - categorical_accuracy: 0.9877\n",
      "Epoch 144/170\n",
      "3/3 [==============================] - 0s 43ms/step - loss: 0.0463 - categorical_accuracy: 0.9877\n",
      "Epoch 145/170\n",
      "3/3 [==============================] - 0s 43ms/step - loss: 0.0454 - categorical_accuracy: 0.9877\n",
      "Epoch 146/170\n",
      "3/3 [==============================] - 0s 45ms/step - loss: 0.0435 - categorical_accuracy: 0.9877\n",
      "Epoch 147/170\n",
      "3/3 [==============================] - 0s 44ms/step - loss: 0.0403 - categorical_accuracy: 0.9877\n",
      "Epoch 148/170\n",
      "3/3 [==============================] - 0s 43ms/step - loss: 0.0339 - categorical_accuracy: 0.9877\n",
      "Epoch 149/170\n",
      "3/3 [==============================] - 0s 43ms/step - loss: 0.0370 - categorical_accuracy: 0.9877\n",
      "Epoch 150/170\n",
      "3/3 [==============================] - 0s 44ms/step - loss: 0.0312 - categorical_accuracy: 0.9877\n",
      "Epoch 151/170\n",
      "3/3 [==============================] - 0s 44ms/step - loss: 0.0335 - categorical_accuracy: 0.9877\n",
      "Epoch 152/170\n",
      "3/3 [==============================] - 0s 44ms/step - loss: 0.0326 - categorical_accuracy: 1.0000\n",
      "Epoch 153/170\n",
      "3/3 [==============================] - 0s 51ms/step - loss: 0.0297 - categorical_accuracy: 1.0000\n",
      "Epoch 154/170\n",
      "3/3 [==============================] - 0s 43ms/step - loss: 0.0309 - categorical_accuracy: 0.9877\n",
      "Epoch 155/170\n",
      "3/3 [==============================] - 0s 43ms/step - loss: 0.0284 - categorical_accuracy: 1.0000\n",
      "Epoch 156/170\n",
      "3/3 [==============================] - 0s 44ms/step - loss: 0.0285 - categorical_accuracy: 1.0000\n",
      "Epoch 157/170\n",
      "3/3 [==============================] - 0s 44ms/step - loss: 0.0296 - categorical_accuracy: 1.0000\n",
      "Epoch 158/170\n",
      "3/3 [==============================] - 0s 44ms/step - loss: 0.0256 - categorical_accuracy: 1.0000\n",
      "Epoch 159/170\n",
      "3/3 [==============================] - 0s 42ms/step - loss: 0.0266 - categorical_accuracy: 0.9877\n",
      "Epoch 160/170\n",
      "3/3 [==============================] - 0s 44ms/step - loss: 0.0276 - categorical_accuracy: 0.9877\n",
      "Epoch 161/170\n",
      "3/3 [==============================] - 0s 44ms/step - loss: 0.0303 - categorical_accuracy: 0.9877\n",
      "Epoch 162/170\n",
      "3/3 [==============================] - 0s 45ms/step - loss: 0.0273 - categorical_accuracy: 0.9877\n",
      "Epoch 163/170\n",
      "3/3 [==============================] - 0s 45ms/step - loss: 0.0249 - categorical_accuracy: 1.0000\n",
      "Epoch 164/170\n",
      "3/3 [==============================] - 0s 46ms/step - loss: 0.0238 - categorical_accuracy: 1.0000\n",
      "Epoch 165/170\n",
      "3/3 [==============================] - 0s 45ms/step - loss: 0.0250 - categorical_accuracy: 0.9877\n",
      "Epoch 166/170\n",
      "3/3 [==============================] - 0s 42ms/step - loss: 0.0229 - categorical_accuracy: 1.0000\n",
      "Epoch 167/170\n",
      "3/3 [==============================] - 0s 45ms/step - loss: 0.0260 - categorical_accuracy: 1.0000\n",
      "Epoch 168/170\n",
      "3/3 [==============================] - 0s 44ms/step - loss: 0.0247 - categorical_accuracy: 0.9877\n",
      "Epoch 169/170\n",
      "3/3 [==============================] - 0s 44ms/step - loss: 0.0249 - categorical_accuracy: 0.9877\n",
      "Epoch 170/170\n",
      "3/3 [==============================] - 0s 43ms/step - loss: 0.0243 - categorical_accuracy: 1.0000\n"
     ]
    },
    {
     "data": {
      "text/plain": [
       "<keras.src.callbacks.History at 0x1dc0cbb0b80>"
      ]
     },
     "execution_count": 82,
     "metadata": {},
     "output_type": "execute_result"
    }
   ],
   "source": [
    "model.fit(x_train, y_train, epochs=170, callbacks=[tensorboard_callback])"
   ]
  },
  {
   "cell_type": "code",
   "execution_count": 83,
   "id": "1585ba08",
   "metadata": {},
   "outputs": [
    {
     "name": "stdout",
     "output_type": "stream",
     "text": [
      "Model: \"sequential_6\"\n",
      "_________________________________________________________________\n",
      " Layer (type)                Output Shape              Param #   \n",
      "=================================================================\n",
      " lstm_18 (LSTM)              (None, 30, 64)            442112    \n",
      "                                                                 \n",
      " lstm_19 (LSTM)              (None, 30, 128)           98816     \n",
      "                                                                 \n",
      " lstm_20 (LSTM)              (None, 64)                49408     \n",
      "                                                                 \n",
      " dense_18 (Dense)            (None, 64)                4160      \n",
      "                                                                 \n",
      " dense_19 (Dense)            (None, 32)                2080      \n",
      "                                                                 \n",
      " dense_20 (Dense)            (None, 3)                 99        \n",
      "                                                                 \n",
      "=================================================================\n",
      "Total params: 596675 (2.28 MB)\n",
      "Trainable params: 596675 (2.28 MB)\n",
      "Non-trainable params: 0 (0.00 Byte)\n",
      "_________________________________________________________________\n"
     ]
    }
   ],
   "source": [
    "model.summary()"
   ]
  },
  {
   "cell_type": "markdown",
   "id": "4bc8d82c",
   "metadata": {},
   "source": [
    "## Predictions"
   ]
  },
  {
   "cell_type": "code",
   "execution_count": 85,
   "id": "0c83e1e5",
   "metadata": {},
   "outputs": [
    {
     "name": "stdout",
     "output_type": "stream",
     "text": [
      "1/1 [==============================] - 0s 26ms/step\n"
     ]
    }
   ],
   "source": [
    "prediction = model.predict(x_test)"
   ]
  },
  {
   "cell_type": "code",
   "execution_count": 86,
   "id": "cd0277c4",
   "metadata": {},
   "outputs": [
    {
     "data": {
      "text/plain": [
       "'I love you'"
      ]
     },
     "execution_count": 86,
     "metadata": {},
     "output_type": "execute_result"
    }
   ],
   "source": [
    "# as you can see it predicts correctly\n",
    "actions[np.argmax(prediction[3])]"
   ]
  },
  {
   "cell_type": "code",
   "execution_count": 87,
   "id": "09e131c0",
   "metadata": {},
   "outputs": [
    {
     "data": {
      "text/plain": [
       "'I love you'"
      ]
     },
     "execution_count": 87,
     "metadata": {},
     "output_type": "execute_result"
    }
   ],
   "source": [
    "actions[np.argmax(y_test[3])]"
   ]
  },
  {
   "cell_type": "markdown",
   "id": "0c457dde",
   "metadata": {},
   "source": [
    "##### Save the model (weights of neural network)"
   ]
  },
  {
   "cell_type": "code",
   "execution_count": 88,
   "id": "3aec8c89",
   "metadata": {},
   "outputs": [
    {
     "name": "stderr",
     "output_type": "stream",
     "text": [
      "c:\\Users\\merth\\AppData\\Local\\Programs\\Python\\Python38\\lib\\site-packages\\keras\\src\\engine\\training.py:3000: UserWarning: You are saving your model as an HDF5 file via `model.save()`. This file format is considered legacy. We recommend using instead the native Keras format, e.g. `model.save('my_model.keras')`.\n",
      "  saving_api.save_model(\n"
     ]
    }
   ],
   "source": [
    "model.save(\"sign_AI_model.h5\")"
   ]
  },
  {
   "cell_type": "code",
   "execution_count": 89,
   "id": "3c4e2096",
   "metadata": {},
   "outputs": [],
   "source": [
    "model.load_weights('sign_AI_model.h5')"
   ]
  },
  {
   "cell_type": "markdown",
   "id": "4bef8289",
   "metadata": {},
   "source": [
    "## Real Time Test"
   ]
  },
  {
   "cell_type": "code",
   "execution_count": 106,
   "id": "e303c950",
   "metadata": {},
   "outputs": [
    {
     "name": "stdout",
     "output_type": "stream",
     "text": [
      "1/1 [==============================] - 0s 19ms/step\n",
      "1/1 [==============================] - 0s 19ms/step\n",
      "1/1 [==============================] - 0s 18ms/step\n",
      "hello\n",
      "1/1 [==============================] - 0s 19ms/step\n",
      "I love you\n",
      "1/1 [==============================] - 0s 15ms/step\n",
      "1/1 [==============================] - 0s 15ms/step\n",
      "1/1 [==============================] - 0s 16ms/step\n",
      "1/1 [==============================] - 0s 14ms/step\n",
      "1/1 [==============================] - 0s 30ms/step\n",
      "1/1 [==============================] - 0s 16ms/step\n",
      "1/1 [==============================] - 0s 20ms/step\n",
      "1/1 [==============================] - 0s 17ms/step\n",
      "1/1 [==============================] - 0s 19ms/step\n",
      "1/1 [==============================] - 0s 16ms/step\n",
      "1/1 [==============================] - 0s 15ms/step\n",
      "hello\n",
      "1/1 [==============================] - 0s 16ms/step\n",
      "1/1 [==============================] - 0s 13ms/step\n",
      "I love you\n",
      "1/1 [==============================] - 0s 17ms/step\n",
      "1/1 [==============================] - 0s 18ms/step\n",
      "hello\n",
      "1/1 [==============================] - 0s 16ms/step\n",
      "I love you\n",
      "1/1 [==============================] - 0s 15ms/step\n",
      "1/1 [==============================] - 0s 14ms/step\n",
      "1/1 [==============================] - 0s 14ms/step\n",
      "1/1 [==============================] - 0s 15ms/step\n",
      "1/1 [==============================] - 0s 16ms/step\n"
     ]
    }
   ],
   "source": [
    "seq = []\n",
    "sentence = []\n",
    "threshold = 0.7\n",
    "\n",
    "\n",
    "cap = cv2.VideoCapture(0)\n",
    "\n",
    "while cap.isOpened():\n",
    "    ret, frame = cap.read() #take frame and ret returns True if camera read is sucsessfully done else False\n",
    "\n",
    "    image, results = mediapipe_detection(frame, holistic) #detect hand face body\n",
    "\n",
    "\n",
    "    landmarks = extract_landmarks(results) #extract the landmarks\n",
    "    seq.append(landmarks) #append landmarks of this frame\n",
    "    seq = seq[-30:] #seq always keep last 30 frames\n",
    "\n",
    "    if (len(seq) == 30): # if there is 30 frame\n",
    "        # normally prediction.shape is something like (30, 1662) but model.predict waits (num_sequences, 30, 1662) \n",
    "        # therefore we need to expand_dims.\n",
    "        prediction = model.predict(np.expand_dims(seq, axis=0))[0] \n",
    "\n",
    "        if prediction[np.argmax(prediction)] > threshold:\n",
    "            if len(sentence) > 0:\n",
    "                if actions[np.argmax(prediction)] != sentence[-1]:\n",
    "                    sentence.append(actions[np.argmax(prediction)])\n",
    "                    print(actions[np.argmax(prediction)])\n",
    "            else:\n",
    "                sentence.append(actions[np.argmax(prediction)])\n",
    "\n",
    "        if len(sentence) > 5:\n",
    "            sentence = sentence[-5:]\n",
    "\n",
    "        cv2.rectangle(image, (0, 0), (640,40), (245, 117, 16), -1)\n",
    "        cv2.putText(image, \"\".join(sentence), (300, 30), cv2.FONT_HERSHEY_SIMPLEX, 0.5, (0, 0, 0), cv2.LINE_AA)\n",
    "\n",
    "    cv2.imshow(\"MediaPipe processed video\", image) #display frame \n",
    "\n",
    "\n",
    "    if cv2.waitKey(1) & 0xFF == ord(\"q\"):#q = break and wait 1ms\n",
    "        break\n",
    "\n",
    "cap.release() #relase the cam\n",
    "cv2.destroyAllWindows() #close the display screen \n"
   ]
  },
  {
   "cell_type": "code",
   "execution_count": null,
   "id": "ac9c8c6a",
   "metadata": {},
   "outputs": [],
   "source": []
  }
 ],
 "metadata": {
  "kernelspec": {
   "display_name": "Python 3",
   "language": "python",
   "name": "python3"
  },
  "language_info": {
   "codemirror_mode": {
    "name": "ipython",
    "version": 3
   },
   "file_extension": ".py",
   "mimetype": "text/x-python",
   "name": "python",
   "nbconvert_exporter": "python",
   "pygments_lexer": "ipython3",
   "version": "3.8.0"
  }
 },
 "nbformat": 4,
 "nbformat_minor": 5
}
